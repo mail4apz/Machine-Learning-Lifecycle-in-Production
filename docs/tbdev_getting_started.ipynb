{
  "nbformat": 4,
  "nbformat_minor": 0,
  "metadata": {
    "colab": {
      "name": "tbdev_getting_started.ipynb",
      "provenance": [],
      "collapsed_sections": [],
      "toc_visible": true
    },
    "kernelspec": {
      "display_name": "Python 3",
      "name": "python3"
    }
  },
  "cells": [
    {
      "cell_type": "markdown",
      "metadata": {
        "id": "h3Nuf-G4xJ0u"
      },
      "source": [
        "##### Copyright 2020 The TensorFlow Authors."
      ]
    },
    {
      "cell_type": "code",
      "metadata": {
        "cellView": "form",
        "id": "zZ81_4tLxSvd"
      },
      "source": [
        "#@title Licensed under the Apache License, Version 2.0 (the \"License\");\n",
        "# you may not use this file except in compliance with the License.\n",
        "# You may obtain a copy of the License at\n",
        "#\n",
        "# https://www.apache.org/licenses/LICENSE-2.0\n",
        "#\n",
        "# Unless required by applicable law or agreed to in writing, software\n",
        "# distributed under the License is distributed on an \"AS IS\" BASIS,\n",
        "# WITHOUT WARRANTIES OR CONDITIONS OF ANY KIND, either express or implied.\n",
        "# See the License for the specific language governing permissions and\n",
        "# limitations under the License."
      ],
      "execution_count": null,
      "outputs": []
    },
    {
      "cell_type": "markdown",
      "metadata": {
        "id": "wNBP_f0QUTfO"
      },
      "source": [
        "# Getting started with [TensorBoard.dev](https://tensorboard.dev)"
      ]
    },
    {
      "cell_type": "markdown",
      "metadata": {
        "id": "DLXZ3t1PWdOp"
      },
      "source": [
        "[TensorBoard.dev](https://tensorboard.dev) is a free, public [TensorBoard](https://tensorflow.org/tensorboard) service that enables you to upload and share your ML experiments with everyone.\n",
        "\n",
        "This notebook trains a simple model and shows how to upload the logs to TensorBoard.dev. [Preview](https://tensorboard.dev/experiment/rldGbR8rRHeCEbkK61SWTQ)."
      ]
    },
    {
      "cell_type": "markdown",
      "metadata": {
        "id": "yjBn-ptXTppA"
      },
      "source": [
        "### Setup and imports\n",
        "\n",
        "This notebook uses TensorBoard features which are only available for versions >= `2.3.0`."
      ]
    },
    {
      "cell_type": "code",
      "metadata": {
        "id": "L3ns52Luracm"
      },
      "source": [
        "import tensorflow as tf\n",
        "import datetime\n",
        "from tensorboard.plugins.hparams import api as hp"
      ],
      "execution_count": 1,
      "outputs": []
    },
    {
      "cell_type": "markdown",
      "metadata": {
        "id": "GqUABmUTT1Cl"
      },
      "source": [
        "### Train a simple model and create TensorBoard logs"
      ]
    },
    {
      "cell_type": "code",
      "metadata": {
        "id": "LZExSr2Qrc5S",
        "outputId": "085e99ac-72a7-47d9-bec0-99e6fc6c1c2b",
        "colab": {
          "base_uri": "https://localhost:8080/"
        }
      },
      "source": [
        "mnist = tf.keras.datasets.mnist\n",
        "\n",
        "(x_train, y_train),(x_test, y_test) = mnist.load_data()\n",
        "x_train, x_test = x_train / 255.0, x_test / 255.0\n",
        "\n",
        "def create_model():\n",
        "  return tf.keras.models.Sequential([\n",
        "    tf.keras.layers.Flatten(input_shape=(28, 28)),\n",
        "    tf.keras.layers.Dense(512, activation='relu'),\n",
        "    tf.keras.layers.Dropout(0.2),\n",
        "    tf.keras.layers.Dense(10, activation='softmax')\n",
        "  ])"
      ],
      "execution_count": 2,
      "outputs": [
        {
          "output_type": "stream",
          "text": [
            "Downloading data from https://storage.googleapis.com/tensorflow/tf-keras-datasets/mnist.npz\n",
            "11493376/11490434 [==============================] - 0s 0us/step\n",
            "11501568/11490434 [==============================] - 0s 0us/step\n"
          ],
          "name": "stdout"
        }
      ]
    },
    {
      "cell_type": "markdown",
      "metadata": {
        "id": "FSv4C0dBrmAx"
      },
      "source": [
        "TensorBoard logs are created during training by passing the [TensorBoard](https://www.tensorflow.org/tensorboard/get_started) and [hyperparameters callbacks](https://www.tensorflow.org/tensorboard/hyperparameter_tuning_with_hparams) to Keras' Model.fit(). These logs can then be uploaded to TensorBoard.dev.\n"
      ]
    },
    {
      "cell_type": "code",
      "metadata": {
        "id": "dsVjm5CrUtXm",
        "outputId": "e9f4d4bd-f33e-4000-df06-807fd59f98b4",
        "colab": {
          "base_uri": "https://localhost:8080/"
        }
      },
      "source": [
        "model = create_model()\n",
        "model.compile(\n",
        "    optimizer='adam',\n",
        "    loss='sparse_categorical_crossentropy',\n",
        "    metrics=['accuracy'])\n",
        "\n",
        "log_dir=\"logs/fit/\" + datetime.datetime.now().strftime(\"%Y%m%d-%H%M%S\")\n",
        "tensorboard_callback = tf.keras.callbacks.TensorBoard(\n",
        "    log_dir=log_dir, histogram_freq=1)\n",
        "hparams_callback = hp.KerasCallback(log_dir, {\n",
        "    'num_relu_units': 512,\n",
        "    'dropout': 0.2\n",
        "})\n",
        "\n",
        "model.fit(\n",
        "    x=x_train, \n",
        "    y=y_train, \n",
        "    epochs=5, \n",
        "    validation_data=(x_test, y_test), \n",
        "    callbacks=[tensorboard_callback, hparams_callback])"
      ],
      "execution_count": 3,
      "outputs": [
        {
          "output_type": "stream",
          "text": [
            "Epoch 1/5\n",
            "1875/1875 [==============================] - 9s 4ms/step - loss: 0.2214 - accuracy: 0.9346 - val_loss: 0.1089 - val_accuracy: 0.9667\n",
            "Epoch 2/5\n",
            "1875/1875 [==============================] - 10s 5ms/step - loss: 0.0966 - accuracy: 0.9707 - val_loss: 0.0904 - val_accuracy: 0.9730\n",
            "Epoch 3/5\n",
            "1875/1875 [==============================] - 9s 5ms/step - loss: 0.0692 - accuracy: 0.9783 - val_loss: 0.0690 - val_accuracy: 0.9793\n",
            "Epoch 4/5\n",
            "1875/1875 [==============================] - 10s 5ms/step - loss: 0.0537 - accuracy: 0.9825 - val_loss: 0.0675 - val_accuracy: 0.9793\n",
            "Epoch 5/5\n",
            "1875/1875 [==============================] - 10s 5ms/step - loss: 0.0435 - accuracy: 0.9859 - val_loss: 0.0713 - val_accuracy: 0.9784\n"
          ],
          "name": "stdout"
        },
        {
          "output_type": "execute_result",
          "data": {
            "text/plain": [
              "<keras.callbacks.History at 0x7f1c6afca390>"
            ]
          },
          "metadata": {},
          "execution_count": 3
        }
      ]
    },
    {
      "cell_type": "markdown",
      "metadata": {
        "id": "TgF35qdzIC3T"
      },
      "source": [
        "### (Jupyter only)  Authorize TensorBoard.dev\n",
        "\n",
        "**This step is not necessary in Colab**\n",
        "\n",
        "This step requires you to auth in your shell console, outside of Jupyter.  In your console, execute the following command.\n",
        "\n",
        "`tensorboard dev list`\n",
        "\n",
        "As part of this flow, you will be provided with an authorization code. This code is required to consent to the Terms of Service."
      ]
    },
    {
      "cell_type": "markdown",
      "metadata": {
        "id": "oKW8V5chyx6e"
      },
      "source": [
        "### Upload to TensorBoard.dev\n",
        "\n",
        "Uploading the TensorBoard logs will give you a URL that can be shared with anyone.\n",
        "\n",
        "Uploaded TensorBoards are public, so do not upload sensitive data.\n",
        "\n",
        "The uploader will exit when the entire logdir has uploaded.  (This is what the `--one_shot` flag specifies.)"
      ]
    },
    {
      "cell_type": "code",
      "metadata": {
        "id": "n2PvxhOkW7vn",
        "outputId": "d0a7c475-6740-4c70-97df-289398913be4",
        "colab": {
          "base_uri": "https://localhost:8080/"
        }
      },
      "source": [
        "!tensorboard dev upload --logdir ./logs \\\n",
        "  --name \"Simple experiment with MNIST\" \\\n",
        "  --description \"Training results from https://colab.sandbox.google.com/github/tensorflow/tensorboard/blob/master/docs/tbdev_getting_started.ipynb\" \\\n",
        "  --one_shot"
      ],
      "execution_count": 4,
      "outputs": [
        {
          "output_type": "stream",
          "text": [
            "2021-08-25 02:42:56.207893: E tensorflow/stream_executor/cuda/cuda_driver.cc:271] failed call to cuInit: CUDA_ERROR_NO_DEVICE: no CUDA-capable device is detected\n",
            "2021-08-25 02:42:56.207952: I tensorflow/stream_executor/cuda/cuda_diagnostics.cc:156] kernel driver does not appear to be running on this host (0c04a9b2c4dc): /proc/driver/nvidia/version does not exist\n",
            "\n",
            "***** TensorBoard Uploader *****\n",
            "\n",
            "This will upload your TensorBoard logs to https://tensorboard.dev/ from\n",
            "the following directory:\n",
            "\n",
            "./logs\n",
            "\n",
            "This TensorBoard will be visible to everyone. Do not upload sensitive\n",
            "data.\n",
            "\n",
            "Your use of this service is subject to Google's Terms of Service\n",
            "<https://policies.google.com/terms> and Privacy Policy\n",
            "<https://policies.google.com/privacy>, and TensorBoard.dev's Terms of Service\n",
            "<https://tensorboard.dev/policy/terms/>.\n",
            "\n",
            "This notice will not be shown again while you are logged into the uploader.\n",
            "To log out, run `tensorboard dev auth revoke`.\n",
            "\n",
            "Continue? (yes/NO) yes\n",
            "\n",
            "Please visit this URL to authorize this application: https://accounts.google.com/o/oauth2/auth?response_type=code&client_id=373649185512-8v619h5kft38l4456nm2dj4ubeqsrvh6.apps.googleusercontent.com&redirect_uri=urn%3Aietf%3Awg%3Aoauth%3A2.0%3Aoob&scope=openid+https%3A%2F%2Fwww.googleapis.com%2Fauth%2Fuserinfo.email&state=1HkMnzuD1QbCbr1faMM5ob5pNnphUu&prompt=consent&access_type=offline\n",
            "Enter the authorization code: 4/1AX4XfWhUNUf0x2Sdatxy_qqTA8t-9FEcD5XEvabFlTYtg7ROH7N8RZKRnjs\n",
            "\n",
            "\n",
            "New experiment created. View your TensorBoard at: https://tensorboard.dev/experiment/nTJOls9xR7yeTNG9GGzF1A/\n",
            "\n",
            "\u001b[1m[2021-08-25T02:43:46]\u001b[0m Started scanning logdir.\n",
            "\u001b[1m[2021-08-25T02:43:47]\u001b[0m Total uploaded: 30 scalars, 22 tensors (14.4 kB), 1 binary objects (29.5 kB)\n",
            "\u001b[1m[2021-08-25T02:43:47]\u001b[0m Done scanning logdir.\n",
            "\n",
            "\n",
            "Done. View your TensorBoard at https://tensorboard.dev/experiment/nTJOls9xR7yeTNG9GGzF1A/\n"
          ],
          "name": "stdout"
        }
      ]
    },
    {
      "cell_type": "markdown",
      "metadata": {
        "id": "5QH5k4AUNE27"
      },
      "source": [
        "Each individual upload has a unique experiment ID. This means that if you start a new upload with the same directory, you will get a new experiment ID. You can view all your uploaded experiments at https://tensorboard.dev/experiments/. Alternatively, you can list your experiments in the terminal using the following command:\n",
        "```\n",
        "tensorboard dev list\n",
        "```"
      ]
    },
    {
      "cell_type": "code",
      "metadata": {
        "id": "C2Pj3RQCNQvP",
        "outputId": "6b90a467-7cfa-4e1f-a450-42b68727e9a6",
        "colab": {
          "base_uri": "https://localhost:8080/"
        }
      },
      "source": [
        "!tensorboard dev list"
      ],
      "execution_count": 5,
      "outputs": [
        {
          "output_type": "stream",
          "text": [
            "2021-08-25 02:51:23.326032: E tensorflow/stream_executor/cuda/cuda_driver.cc:271] failed call to cuInit: CUDA_ERROR_NO_DEVICE: no CUDA-capable device is detected\n",
            "2021-08-25 02:51:23.326092: I tensorflow/stream_executor/cuda/cuda_diagnostics.cc:156] kernel driver does not appear to be running on this host (0c04a9b2c4dc): /proc/driver/nvidia/version does not exist\n",
            "https://tensorboard.dev/experiment/nTJOls9xR7yeTNG9GGzF1A/\n",
            "\tName                 Simple experiment with MNIST\n",
            "\tDescription          Training results from https://colab.sandbox.google.com/github/tensorflow/tensorboard/blob/master/docs/tbdev_getting_started.ipynb\n",
            "\tId                   nTJOls9xR7yeTNG9GGzF1A\n",
            "\tCreated              2021-08-25 02:43:46 (7 minutes ago)\n",
            "\tUpdated              2021-08-25 02:43:47 (7 minutes ago)\n",
            "\tRuns                 3\n",
            "\tTags                 11\n",
            "\tScalars              30\n",
            "\tTensor bytes         16472\n",
            "\tBinary object bytes  30410\n",
            "Total: 1 experiment(s)\n"
          ],
          "name": "stdout"
        }
      ]
    },
    {
      "cell_type": "markdown",
      "metadata": {
        "id": "NyJsD3Ypyx6m"
      },
      "source": [
        "### Screenshots of TensorBoard.dev\n",
        "\n",
        "This is what it will look like when you navigate to https://tensorboard.dev/experiments/:\n",
        "\n",
        "![screenshot of TensorBoard.dev experiment list](images/tbdev_experiment_list.png \"TensorBoard.dev experiment list screenshot\")\n",
        "\n",
        "This is what it will look like when you navigate to your new experiment on TensorBoard.dev:\n",
        "\n",
        "![screenshot of TensorBoard.dev experiment dashboard](images/tbdev_getting_started.png \"TensorBoard.dev experiment dashboard screenshot\")"
      ]
    },
    {
      "cell_type": "markdown",
      "metadata": {
        "id": "JcZOGmjQNWk_"
      },
      "source": [
        "### Deleting your TensorBoard.dev experiment\n",
        "\n",
        "To remove an experiment you have uploaded, use the `delete` command and specify the appropriate `experiment_id`.\n",
        "In the above screenshot, the experiment_id is listed in the bottom left corner: `w1lkBAOrR4eH35Y7Lg1DQQ`."
      ]
    },
    {
      "cell_type": "code",
      "metadata": {
        "id": "VSkJTT9rNWJq"
      },
      "source": [
        "# You must replace YOUR_EXPERIMENT_ID with the value output from the previous\n",
        "# tensorboard `list` command or `upload` command.  For example\n",
        "# `tensorboard dev delete --experiment_id pQpJNh00RG2Lf1zOe9BrQA`\n",
        "\n",
        "## !tensorboard dev delete --experiment_id YOUR_EXPERIMENT_ID_HERE"
      ],
      "execution_count": null,
      "outputs": []
    }
  ]
}